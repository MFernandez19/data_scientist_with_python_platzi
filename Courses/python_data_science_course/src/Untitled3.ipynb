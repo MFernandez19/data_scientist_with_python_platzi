{
  "cells": [
    {
      "cell_type": "markdown",
      "metadata": {
        "id": "p2-Rt2KeLg2h"
      },
      "source": [
        "---"
      ]
    },
    {
      "cell_type": "markdown",
      "metadata": {
        "id": "MKe1Qk5NLjnr"
      },
      "source": [
        "# 0. Imports"
      ]
    },
    {
      "cell_type": "markdown",
      "metadata": {
        "id": "dno4DzZMLlzs"
      },
      "source": [
        "---"
      ]
    },
    {
      "cell_type": "code",
      "execution_count": 20,
      "metadata": {
        "id": "y0lZWNwcJk3U"
      },
      "outputs": [],
      "source": [
        "import numpy as np\n",
        "import pandas as pd\n",
        "import matplotlib.pyplot as plt\n",
        "import seaborn as sns\n",
        "import utils"
      ]
    },
    {
      "cell_type": "markdown",
      "metadata": {
        "id": "8lfZSUAfLuPt"
      },
      "source": [
        "---"
      ]
    },
    {
      "cell_type": "markdown",
      "metadata": {
        "id": "Ta_TCEXBLvEj"
      },
      "source": [
        "# 1. Importing data"
      ]
    },
    {
      "cell_type": "markdown",
      "metadata": {
        "id": "V7u4QM02LzKZ"
      },
      "source": [
        "---"
      ]
    },
    {
      "cell_type": "code",
      "execution_count": 21,
      "metadata": {
        "id": "fCmzu69QLz6O"
      },
      "outputs": [],
      "source": [
        "path = \"../data/Online_Retail.csv\"\n",
        "df = pd.read_csv(path, encoding=\"ISO-8859-1\")"
      ]
    },
    {
      "cell_type": "code",
      "execution_count": 22,
      "metadata": {
        "colab": {
          "base_uri": "https://localhost:8080/",
          "height": 206
        },
        "id": "Kz8-E4RqMtjU",
        "outputId": "0a49ac69-6212-4a23-9f5d-a7429149d89c"
      },
      "outputs": [
        {
          "data": {
            "text/html": [
              "<div>\n",
              "<style scoped>\n",
              "    .dataframe tbody tr th:only-of-type {\n",
              "        vertical-align: middle;\n",
              "    }\n",
              "\n",
              "    .dataframe tbody tr th {\n",
              "        vertical-align: top;\n",
              "    }\n",
              "\n",
              "    .dataframe thead th {\n",
              "        text-align: right;\n",
              "    }\n",
              "</style>\n",
              "<table border=\"1\" class=\"dataframe\">\n",
              "  <thead>\n",
              "    <tr style=\"text-align: right;\">\n",
              "      <th></th>\n",
              "      <th>InvoiceNo</th>\n",
              "      <th>StockCode</th>\n",
              "      <th>Description</th>\n",
              "      <th>Quantity</th>\n",
              "      <th>InvoiceDate</th>\n",
              "      <th>UnitPrice</th>\n",
              "      <th>CustomerID</th>\n",
              "      <th>Country</th>\n",
              "    </tr>\n",
              "  </thead>\n",
              "  <tbody>\n",
              "    <tr>\n",
              "      <th>0</th>\n",
              "      <td>536365</td>\n",
              "      <td>85123A</td>\n",
              "      <td>WHITE HANGING HEART T-LIGHT HOLDER</td>\n",
              "      <td>6</td>\n",
              "      <td>12/1/10 8:26</td>\n",
              "      <td>2.55</td>\n",
              "      <td>17850.0</td>\n",
              "      <td>United Kingdom</td>\n",
              "    </tr>\n",
              "    <tr>\n",
              "      <th>1</th>\n",
              "      <td>536365</td>\n",
              "      <td>71053</td>\n",
              "      <td>WHITE METAL LANTERN</td>\n",
              "      <td>6</td>\n",
              "      <td>12/1/10 8:26</td>\n",
              "      <td>3.39</td>\n",
              "      <td>17850.0</td>\n",
              "      <td>United Kingdom</td>\n",
              "    </tr>\n",
              "    <tr>\n",
              "      <th>2</th>\n",
              "      <td>536365</td>\n",
              "      <td>84406B</td>\n",
              "      <td>CREAM CUPID HEARTS COAT HANGER</td>\n",
              "      <td>8</td>\n",
              "      <td>12/1/10 8:26</td>\n",
              "      <td>2.75</td>\n",
              "      <td>17850.0</td>\n",
              "      <td>United Kingdom</td>\n",
              "    </tr>\n",
              "    <tr>\n",
              "      <th>3</th>\n",
              "      <td>536365</td>\n",
              "      <td>84029G</td>\n",
              "      <td>KNITTED UNION FLAG HOT WATER BOTTLE</td>\n",
              "      <td>6</td>\n",
              "      <td>12/1/10 8:26</td>\n",
              "      <td>3.39</td>\n",
              "      <td>17850.0</td>\n",
              "      <td>United Kingdom</td>\n",
              "    </tr>\n",
              "    <tr>\n",
              "      <th>4</th>\n",
              "      <td>536365</td>\n",
              "      <td>84029E</td>\n",
              "      <td>RED WOOLLY HOTTIE WHITE HEART.</td>\n",
              "      <td>6</td>\n",
              "      <td>12/1/10 8:26</td>\n",
              "      <td>3.39</td>\n",
              "      <td>17850.0</td>\n",
              "      <td>United Kingdom</td>\n",
              "    </tr>\n",
              "  </tbody>\n",
              "</table>\n",
              "</div>"
            ],
            "text/plain": [
              "  InvoiceNo StockCode                          Description  Quantity  \\\n",
              "0    536365    85123A   WHITE HANGING HEART T-LIGHT HOLDER         6   \n",
              "1    536365     71053                  WHITE METAL LANTERN         6   \n",
              "2    536365    84406B       CREAM CUPID HEARTS COAT HANGER         8   \n",
              "3    536365    84029G  KNITTED UNION FLAG HOT WATER BOTTLE         6   \n",
              "4    536365    84029E       RED WOOLLY HOTTIE WHITE HEART.         6   \n",
              "\n",
              "    InvoiceDate  UnitPrice  CustomerID         Country  \n",
              "0  12/1/10 8:26       2.55     17850.0  United Kingdom  \n",
              "1  12/1/10 8:26       3.39     17850.0  United Kingdom  \n",
              "2  12/1/10 8:26       2.75     17850.0  United Kingdom  \n",
              "3  12/1/10 8:26       3.39     17850.0  United Kingdom  \n",
              "4  12/1/10 8:26       3.39     17850.0  United Kingdom  "
            ]
          },
          "execution_count": 22,
          "metadata": {},
          "output_type": "execute_result"
        }
      ],
      "source": [
        "df.head()"
      ]
    },
    {
      "cell_type": "markdown",
      "metadata": {
        "id": "zP3OgW98MgFo"
      },
      "source": [
        "---"
      ]
    },
    {
      "cell_type": "markdown",
      "metadata": {
        "id": "tf3NyDCVMg7t"
      },
      "source": [
        "# 2. Data exploration"
      ]
    },
    {
      "cell_type": "markdown",
      "metadata": {
        "id": "qE_OPOJAMkfy"
      },
      "source": [
        "---"
      ]
    },
    {
      "cell_type": "code",
      "execution_count": 23,
      "metadata": {
        "colab": {
          "base_uri": "https://localhost:8080/"
        },
        "id": "y_ZSXSTHMlHD",
        "outputId": "100163e9-703f-4f33-9409-367d2fcae2c3"
      },
      "outputs": [
        {
          "name": "stdout",
          "output_type": "stream",
          "text": [
            "<class 'pandas.core.frame.DataFrame'>\n",
            "RangeIndex: 541909 entries, 0 to 541908\n",
            "Data columns (total 8 columns):\n",
            " #   Column       Non-Null Count   Dtype  \n",
            "---  ------       --------------   -----  \n",
            " 0   InvoiceNo    541909 non-null  object \n",
            " 1   StockCode    541909 non-null  object \n",
            " 2   Description  540455 non-null  object \n",
            " 3   Quantity     541909 non-null  int64  \n",
            " 4   InvoiceDate  541909 non-null  object \n",
            " 5   UnitPrice    541909 non-null  float64\n",
            " 6   CustomerID   406829 non-null  float64\n",
            " 7   Country      541909 non-null  object \n",
            "dtypes: float64(2), int64(1), object(5)\n",
            "memory usage: 33.1+ MB\n"
          ]
        }
      ],
      "source": [
        "df.info()"
      ]
    },
    {
      "cell_type": "code",
      "execution_count": 24,
      "metadata": {
        "colab": {
          "base_uri": "https://localhost:8080/",
          "height": 300
        },
        "id": "YONFB9aeMrhj",
        "outputId": "612a8ff8-c80c-4b63-d6b2-5f1b8f7a1065"
      },
      "outputs": [
        {
          "data": {
            "text/html": [
              "<div>\n",
              "<style scoped>\n",
              "    .dataframe tbody tr th:only-of-type {\n",
              "        vertical-align: middle;\n",
              "    }\n",
              "\n",
              "    .dataframe tbody tr th {\n",
              "        vertical-align: top;\n",
              "    }\n",
              "\n",
              "    .dataframe thead th {\n",
              "        text-align: right;\n",
              "    }\n",
              "</style>\n",
              "<table border=\"1\" class=\"dataframe\">\n",
              "  <thead>\n",
              "    <tr style=\"text-align: right;\">\n",
              "      <th></th>\n",
              "      <th>Quantity</th>\n",
              "      <th>UnitPrice</th>\n",
              "      <th>CustomerID</th>\n",
              "    </tr>\n",
              "  </thead>\n",
              "  <tbody>\n",
              "    <tr>\n",
              "      <th>count</th>\n",
              "      <td>541909.000000</td>\n",
              "      <td>541909.000000</td>\n",
              "      <td>406829.000000</td>\n",
              "    </tr>\n",
              "    <tr>\n",
              "      <th>mean</th>\n",
              "      <td>9.552250</td>\n",
              "      <td>4.611114</td>\n",
              "      <td>15287.690570</td>\n",
              "    </tr>\n",
              "    <tr>\n",
              "      <th>std</th>\n",
              "      <td>218.081158</td>\n",
              "      <td>96.759853</td>\n",
              "      <td>1713.600303</td>\n",
              "    </tr>\n",
              "    <tr>\n",
              "      <th>min</th>\n",
              "      <td>-80995.000000</td>\n",
              "      <td>-11062.060000</td>\n",
              "      <td>12346.000000</td>\n",
              "    </tr>\n",
              "    <tr>\n",
              "      <th>25%</th>\n",
              "      <td>1.000000</td>\n",
              "      <td>1.250000</td>\n",
              "      <td>13953.000000</td>\n",
              "    </tr>\n",
              "    <tr>\n",
              "      <th>50%</th>\n",
              "      <td>3.000000</td>\n",
              "      <td>2.080000</td>\n",
              "      <td>15152.000000</td>\n",
              "    </tr>\n",
              "    <tr>\n",
              "      <th>75%</th>\n",
              "      <td>10.000000</td>\n",
              "      <td>4.130000</td>\n",
              "      <td>16791.000000</td>\n",
              "    </tr>\n",
              "    <tr>\n",
              "      <th>max</th>\n",
              "      <td>80995.000000</td>\n",
              "      <td>38970.000000</td>\n",
              "      <td>18287.000000</td>\n",
              "    </tr>\n",
              "  </tbody>\n",
              "</table>\n",
              "</div>"
            ],
            "text/plain": [
              "            Quantity      UnitPrice     CustomerID\n",
              "count  541909.000000  541909.000000  406829.000000\n",
              "mean        9.552250       4.611114   15287.690570\n",
              "std       218.081158      96.759853    1713.600303\n",
              "min    -80995.000000  -11062.060000   12346.000000\n",
              "25%         1.000000       1.250000   13953.000000\n",
              "50%         3.000000       2.080000   15152.000000\n",
              "75%        10.000000       4.130000   16791.000000\n",
              "max     80995.000000   38970.000000   18287.000000"
            ]
          },
          "execution_count": 24,
          "metadata": {},
          "output_type": "execute_result"
        }
      ],
      "source": [
        "df.describe()"
      ]
    },
    {
      "cell_type": "code",
      "execution_count": 25,
      "metadata": {
        "colab": {
          "base_uri": "https://localhost:8080/",
          "height": 335
        },
        "id": "v8W2tlOyM1w9",
        "outputId": "25fc6589-0be9-4b1f-aa16-248f0db0dfdc"
      },
      "outputs": [
        {
          "data": {
            "text/plain": [
              "InvoiceNo           0\n",
              "StockCode           0\n",
              "Description      1454\n",
              "Quantity            0\n",
              "InvoiceDate         0\n",
              "UnitPrice           0\n",
              "CustomerID     135080\n",
              "Country             0\n",
              "dtype: int64"
            ]
          },
          "execution_count": 25,
          "metadata": {},
          "output_type": "execute_result"
        }
      ],
      "source": [
        "df.isna().sum()"
      ]
    },
    {
      "cell_type": "code",
      "execution_count": 26,
      "metadata": {
        "colab": {
          "base_uri": "https://localhost:8080/"
        },
        "id": "cUeQPI2BNP3o",
        "outputId": "5d87a4b9-659c-4f08-9384-b8df792a9708"
      },
      "outputs": [
        {
          "data": {
            "text/plain": [
              "5268"
            ]
          },
          "execution_count": 26,
          "metadata": {},
          "output_type": "execute_result"
        }
      ],
      "source": [
        "df.duplicated().sum()"
      ]
    },
    {
      "cell_type": "code",
      "execution_count": 27,
      "metadata": {
        "colab": {
          "base_uri": "https://localhost:8080/"
        },
        "id": "kPv5SiF5OZ4W",
        "outputId": "8171f04d-ed0f-4911-aca9-178b64e0830f"
      },
      "outputs": [
        {
          "name": "stdout",
          "output_type": "stream",
          "text": [
            "Unique values in column 'InvoiceNo':\n",
            "['536365' '536366' '536367' '536368' '536369' '536370' '536371' '536372'\n",
            " '536373' '536374']\n",
            "----------------------------------------------------------------------------------------------------\n",
            "Unique values in column 'StockCode':\n",
            "['85123A' '71053' '84406B' '84029G' '84029E' '22752' '21730' '22633'\n",
            " '22632' '84879']\n",
            "----------------------------------------------------------------------------------------------------\n",
            "Unique values in column 'Description':\n",
            "['WHITE HANGING HEART T-LIGHT HOLDER' 'WHITE METAL LANTERN'\n",
            " 'CREAM CUPID HEARTS COAT HANGER' 'KNITTED UNION FLAG HOT WATER BOTTLE'\n",
            " 'RED WOOLLY HOTTIE WHITE HEART.' 'SET 7 BABUSHKA NESTING BOXES'\n",
            " 'GLASS STAR FROSTED T-LIGHT HOLDER' 'HAND WARMER UNION JACK'\n",
            " 'HAND WARMER RED POLKA DOT' 'ASSORTED COLOUR BIRD ORNAMENT']\n",
            "----------------------------------------------------------------------------------------------------\n",
            "Unique values in column 'Quantity':\n",
            "[ 6  8  2 32  3  4 24 12 48 18]\n",
            "----------------------------------------------------------------------------------------------------\n",
            "Unique values in column 'InvoiceDate':\n",
            "['12/1/10 8:26' '12/1/10 8:28' '12/1/10 8:34' '12/1/10 8:35'\n",
            " '12/1/10 8:45' '12/1/10 9:00' '12/1/10 9:01' '12/1/10 9:02'\n",
            " '12/1/10 9:09' '12/1/10 9:32']\n",
            "----------------------------------------------------------------------------------------------------\n",
            "Unique values in column 'UnitPrice':\n",
            "[2.55 3.39 2.75 7.65 4.25 1.85 1.69 2.1  3.75 1.65]\n",
            "----------------------------------------------------------------------------------------------------\n",
            "Unique values in column 'CustomerID':\n",
            "[17850. 13047. 12583. 13748. 15100. 15291. 14688. 17809. 15311. 14527.]\n",
            "----------------------------------------------------------------------------------------------------\n",
            "Unique values in column 'Country':\n",
            "['United Kingdom' 'France' 'Australia' 'Netherlands' 'Germany' 'Norway'\n",
            " 'EIRE' 'Switzerland' 'Spain' 'Poland']\n",
            "----------------------------------------------------------------------------------------------------\n"
          ]
        }
      ],
      "source": [
        "unique_values = {col: df[col].unique() for col in df.columns}\n",
        "\n",
        "for col, values in unique_values.items():\n",
        "    print(f\"Unique values in column '{col}':\")\n",
        "    print(values[:10])\n",
        "    print(\"--\" * 50)"
      ]
    },
    {
      "cell_type": "markdown",
      "metadata": {
        "id": "H3D_udjVM8sM"
      },
      "source": [
        "---"
      ]
    },
    {
      "cell_type": "markdown",
      "metadata": {
        "id": "oofwJihYMrN-"
      },
      "source": [
        "# 3. Data cleaning"
      ]
    },
    {
      "cell_type": "markdown",
      "metadata": {
        "id": "hfaW18ssNAbr"
      },
      "source": [
        "---"
      ]
    },
    {
      "cell_type": "code",
      "execution_count": 28,
      "metadata": {
        "id": "A2DwUYLxNBR7"
      },
      "outputs": [],
      "source": [
        "df_cleaned = df.drop_duplicates()\n",
        "df_cleaned = df_cleaned.dropna(subset=['CustomerID'])"
      ]
    },
    {
      "cell_type": "code",
      "execution_count": 29,
      "metadata": {
        "colab": {
          "base_uri": "https://localhost:8080/",
          "height": 335
        },
        "id": "58Dx9JLfQPP9",
        "outputId": "87c4e34b-1be4-48ac-93fe-63840bc69244"
      },
      "outputs": [
        {
          "data": {
            "text/plain": [
              "InvoiceNo      0\n",
              "StockCode      0\n",
              "Description    0\n",
              "Quantity       0\n",
              "InvoiceDate    0\n",
              "UnitPrice      0\n",
              "CustomerID     0\n",
              "Country        0\n",
              "dtype: int64"
            ]
          },
          "execution_count": 29,
          "metadata": {},
          "output_type": "execute_result"
        }
      ],
      "source": [
        "df_cleaned.isna().sum()"
      ]
    },
    {
      "cell_type": "markdown",
      "metadata": {
        "id": "3PHfOYvcQWET"
      },
      "source": [
        "---"
      ]
    },
    {
      "cell_type": "markdown",
      "metadata": {
        "id": "7EgYh0IIQW9f"
      },
      "source": [
        "# 4. New Features"
      ]
    },
    {
      "cell_type": "markdown",
      "metadata": {
        "id": "fNKnXJz3Qknz"
      },
      "source": [
        "---"
      ]
    },
    {
      "cell_type": "code",
      "execution_count": 30,
      "metadata": {
        "colab": {
          "base_uri": "https://localhost:8080/"
        },
        "id": "x55khAfZQlTm",
        "outputId": "2d17cd2a-7314-4868-c25e-190e7aa02f08"
      },
      "outputs": [
        {
          "name": "stderr",
          "output_type": "stream",
          "text": [
            "C:\\Users\\manue\\AppData\\Local\\Temp\\ipykernel_12040\\200030330.py:3: UserWarning: Could not infer format, so each element will be parsed individually, falling back to `dateutil`. To ensure parsing is consistent and as-expected, please specify a format.\n",
            "  df_cleaned[\"InvoiceDate\"] = pd.to_datetime(df_cleaned[\"InvoiceDate\"])\n"
          ]
        }
      ],
      "source": [
        "df_cleaned[\"TotalAmount\"] = df_cleaned[\"Quantity\"] * df_cleaned[\"UnitPrice\"]\n",
        "\n",
        "df_cleaned[\"InvoiceDate\"] = pd.to_datetime(df_cleaned[\"InvoiceDate\"])"
      ]
    },
    {
      "cell_type": "code",
      "execution_count": 31,
      "metadata": {
        "colab": {
          "base_uri": "https://localhost:8080/",
          "height": 143
        },
        "id": "K51g3f0IREj1",
        "outputId": "b19efa0a-9e2e-4ee4-da57-bd85f394c3b8"
      },
      "outputs": [
        {
          "data": {
            "text/html": [
              "<div>\n",
              "<style scoped>\n",
              "    .dataframe tbody tr th:only-of-type {\n",
              "        vertical-align: middle;\n",
              "    }\n",
              "\n",
              "    .dataframe tbody tr th {\n",
              "        vertical-align: top;\n",
              "    }\n",
              "\n",
              "    .dataframe thead th {\n",
              "        text-align: right;\n",
              "    }\n",
              "</style>\n",
              "<table border=\"1\" class=\"dataframe\">\n",
              "  <thead>\n",
              "    <tr style=\"text-align: right;\">\n",
              "      <th></th>\n",
              "      <th>InvoiceNo</th>\n",
              "      <th>StockCode</th>\n",
              "      <th>Description</th>\n",
              "      <th>Quantity</th>\n",
              "      <th>InvoiceDate</th>\n",
              "      <th>UnitPrice</th>\n",
              "      <th>CustomerID</th>\n",
              "      <th>Country</th>\n",
              "      <th>TotalAmount</th>\n",
              "    </tr>\n",
              "  </thead>\n",
              "  <tbody>\n",
              "    <tr>\n",
              "      <th>0</th>\n",
              "      <td>536365</td>\n",
              "      <td>85123A</td>\n",
              "      <td>WHITE HANGING HEART T-LIGHT HOLDER</td>\n",
              "      <td>6</td>\n",
              "      <td>2010-12-01 08:26:00</td>\n",
              "      <td>2.55</td>\n",
              "      <td>17850.0</td>\n",
              "      <td>United Kingdom</td>\n",
              "      <td>15.30</td>\n",
              "    </tr>\n",
              "    <tr>\n",
              "      <th>1</th>\n",
              "      <td>536365</td>\n",
              "      <td>71053</td>\n",
              "      <td>WHITE METAL LANTERN</td>\n",
              "      <td>6</td>\n",
              "      <td>2010-12-01 08:26:00</td>\n",
              "      <td>3.39</td>\n",
              "      <td>17850.0</td>\n",
              "      <td>United Kingdom</td>\n",
              "      <td>20.34</td>\n",
              "    </tr>\n",
              "    <tr>\n",
              "      <th>2</th>\n",
              "      <td>536365</td>\n",
              "      <td>84406B</td>\n",
              "      <td>CREAM CUPID HEARTS COAT HANGER</td>\n",
              "      <td>8</td>\n",
              "      <td>2010-12-01 08:26:00</td>\n",
              "      <td>2.75</td>\n",
              "      <td>17850.0</td>\n",
              "      <td>United Kingdom</td>\n",
              "      <td>22.00</td>\n",
              "    </tr>\n",
              "  </tbody>\n",
              "</table>\n",
              "</div>"
            ],
            "text/plain": [
              "  InvoiceNo StockCode                         Description  Quantity  \\\n",
              "0    536365    85123A  WHITE HANGING HEART T-LIGHT HOLDER         6   \n",
              "1    536365     71053                 WHITE METAL LANTERN         6   \n",
              "2    536365    84406B      CREAM CUPID HEARTS COAT HANGER         8   \n",
              "\n",
              "          InvoiceDate  UnitPrice  CustomerID         Country  TotalAmount  \n",
              "0 2010-12-01 08:26:00       2.55     17850.0  United Kingdom        15.30  \n",
              "1 2010-12-01 08:26:00       3.39     17850.0  United Kingdom        20.34  \n",
              "2 2010-12-01 08:26:00       2.75     17850.0  United Kingdom        22.00  "
            ]
          },
          "execution_count": 31,
          "metadata": {},
          "output_type": "execute_result"
        }
      ],
      "source": [
        "df_cleaned.head(3)"
      ]
    },
    {
      "cell_type": "code",
      "execution_count": 32,
      "metadata": {
        "colab": {
          "base_uri": "https://localhost:8080/",
          "height": 150
        },
        "id": "FuFLd8fmROgl",
        "outputId": "fa1ec83b-874a-4300-f94d-45697526b365"
      },
      "outputs": [
        {
          "data": {
            "text/html": [
              "<div>\n",
              "<style scoped>\n",
              "    .dataframe tbody tr th:only-of-type {\n",
              "        vertical-align: middle;\n",
              "    }\n",
              "\n",
              "    .dataframe tbody tr th {\n",
              "        vertical-align: top;\n",
              "    }\n",
              "\n",
              "    .dataframe thead th {\n",
              "        text-align: right;\n",
              "    }\n",
              "</style>\n",
              "<table border=\"1\" class=\"dataframe\">\n",
              "  <thead>\n",
              "    <tr style=\"text-align: right;\">\n",
              "      <th></th>\n",
              "      <th>InvoiceNo</th>\n",
              "      <th>StockCode</th>\n",
              "      <th>Description</th>\n",
              "      <th>Quantity</th>\n",
              "      <th>InvoiceDate</th>\n",
              "      <th>UnitPrice</th>\n",
              "      <th>CustomerID</th>\n",
              "      <th>Country</th>\n",
              "      <th>TotalAmount</th>\n",
              "      <th>Year</th>\n",
              "      <th>Month</th>\n",
              "      <th>Semester</th>\n",
              "      <th>Trimester</th>\n",
              "    </tr>\n",
              "  </thead>\n",
              "  <tbody>\n",
              "    <tr>\n",
              "      <th>0</th>\n",
              "      <td>536365</td>\n",
              "      <td>85123A</td>\n",
              "      <td>WHITE HANGING HEART T-LIGHT HOLDER</td>\n",
              "      <td>6</td>\n",
              "      <td>2010-12-01 08:26:00</td>\n",
              "      <td>2.55</td>\n",
              "      <td>17850.0</td>\n",
              "      <td>United Kingdom</td>\n",
              "      <td>15.3</td>\n",
              "      <td>2010</td>\n",
              "      <td>12</td>\n",
              "      <td>2</td>\n",
              "      <td>3</td>\n",
              "    </tr>\n",
              "  </tbody>\n",
              "</table>\n",
              "</div>"
            ],
            "text/plain": [
              "  InvoiceNo StockCode                         Description  Quantity  \\\n",
              "0    536365    85123A  WHITE HANGING HEART T-LIGHT HOLDER         6   \n",
              "\n",
              "          InvoiceDate  UnitPrice  CustomerID         Country  TotalAmount  \\\n",
              "0 2010-12-01 08:26:00       2.55     17850.0  United Kingdom         15.3   \n",
              "\n",
              "   Year  Month  Semester  Trimester  \n",
              "0  2010     12         2          3  "
            ]
          },
          "execution_count": 32,
          "metadata": {},
          "output_type": "execute_result"
        }
      ],
      "source": [
        "df_cleaned[\"Year\"] = df_cleaned[\"InvoiceDate\"].dt.year\n",
        "df_cleaned[\"Month\"] = df_cleaned[\"InvoiceDate\"].dt.month\n",
        "df_cleaned[\"Semester\"] = df_cleaned[\"Month\"].apply(lambda x: 1 if x <= 6 else 2)\n",
        "df_cleaned[\"Trimester\"] = df_cleaned[\"Month\"].apply(lambda x: 1 if x <=4 else (2 if x <= 8 else 3))\n",
        "\n",
        "df_cleaned.head(1)"
      ]
    },
    {
      "cell_type": "code",
      "execution_count": 33,
      "metadata": {
        "colab": {
          "base_uri": "https://localhost:8080/",
          "height": 178
        },
        "id": "C7bM2LXMR2Jx",
        "outputId": "4db2f3ea-a0d2-4bb2-c8d5-c41492824f21"
      },
      "outputs": [
        {
          "data": {
            "text/plain": [
              "Year\n",
              "2010     552372.860\n",
              "2011    7726146.564\n",
              "Name: TotalAmount, dtype: float64"
            ]
          },
          "execution_count": 33,
          "metadata": {},
          "output_type": "execute_result"
        }
      ],
      "source": [
        "sales_by_year = df_cleaned.groupby(\"Year\")[\"TotalAmount\"].sum()\n",
        "sales_by_year.head(3)"
      ]
    },
    {
      "cell_type": "code",
      "execution_count": 34,
      "metadata": {
        "colab": {
          "base_uri": "https://localhost:8080/",
          "height": 209
        },
        "id": "mwh1cubHSHj7",
        "outputId": "5f3dd2e4-e424-4ccf-f16a-eeec82e2c098"
      },
      "outputs": [
        {
          "data": {
            "text/plain": [
              "Year  Semester\n",
              "2010  2            552372.860\n",
              "2011  1           3166939.041\n",
              "      2           4559207.523\n",
              "Name: TotalAmount, dtype: float64"
            ]
          },
          "execution_count": 34,
          "metadata": {},
          "output_type": "execute_result"
        }
      ],
      "source": [
        "sales_by_semester = df_cleaned.groupby([\"Year\", \"Semester\"])[\"TotalAmount\"].sum()\n",
        "sales_by_semester"
      ]
    },
    {
      "cell_type": "code",
      "execution_count": 35,
      "metadata": {
        "colab": {
          "base_uri": "https://localhost:8080/",
          "height": 241
        },
        "id": "TdIgtP2XThkT",
        "outputId": "e3e62ebd-ea75-43fc-8a09-bec320fed38a"
      },
      "outputs": [
        {
          "data": {
            "text/plain": [
              "Year  Trimester\n",
              "2010  3             552372.860\n",
              "2011  1            1913064.851\n",
              "      2            2442064.601\n",
              "      3            3371017.112\n",
              "Name: TotalAmount, dtype: float64"
            ]
          },
          "execution_count": 35,
          "metadata": {},
          "output_type": "execute_result"
        }
      ],
      "source": [
        "sales_by_trimester = df_cleaned.groupby([\"Year\", \"Trimester\"])[\"TotalAmount\"].sum()\n",
        "sales_by_trimester"
      ]
    },
    {
      "cell_type": "code",
      "execution_count": 36,
      "metadata": {
        "colab": {
          "base_uri": "https://localhost:8080/",
          "height": 523
        },
        "id": "QYCT8K9HTw0-",
        "outputId": "7d86a4e1-4096-4039-a34c-611cda79d96c"
      },
      "outputs": [
        {
          "data": {
            "text/plain": [
              "Year  Month\n",
              "2010  12        552372.860\n",
              "2011  1         473731.900\n",
              "      2         435534.070\n",
              "      3         578576.210\n",
              "      4         425222.671\n",
              "      5         647011.670\n",
              "      6         606862.520\n",
              "      7         573112.321\n",
              "      8         615078.090\n",
              "      9         929356.232\n",
              "      10        973306.380\n",
              "      11       1126815.070\n",
              "      12        341539.430\n",
              "Name: TotalAmount, dtype: float64"
            ]
          },
          "execution_count": 36,
          "metadata": {},
          "output_type": "execute_result"
        }
      ],
      "source": [
        "sales_by_month = df_cleaned.groupby([\"Year\",\"Month\"])[\"TotalAmount\"].sum()\n",
        "sales_by_month"
      ]
    },
    {
      "cell_type": "code",
      "execution_count": 37,
      "metadata": {
        "colab": {
          "base_uri": "https://localhost:8080/"
        },
        "id": "X_wOsUqzUdlU",
        "outputId": "b0e30662-6546-4e58-b624-d55103fb6ddf"
      },
      "outputs": [
        {
          "data": {
            "text/plain": [
              "8872"
            ]
          },
          "execution_count": 37,
          "metadata": {},
          "output_type": "execute_result"
        }
      ],
      "source": [
        "total_returns = df_cleaned[df_cleaned[\"Quantity\"] < 0].shape[0]\n",
        "total_returns"
      ]
    },
    {
      "cell_type": "code",
      "execution_count": 38,
      "metadata": {
        "colab": {
          "base_uri": "https://localhost:8080/"
        },
        "id": "FRRflXzLUqBy",
        "outputId": "9bfd6d54-69e2-437f-b670-5b8f1cf89a7f"
      },
      "outputs": [
        {
          "data": {
            "text/plain": [
              "392732"
            ]
          },
          "execution_count": 38,
          "metadata": {},
          "output_type": "execute_result"
        }
      ],
      "source": [
        "total_non_returns = df_cleaned[df_cleaned[\"Quantity\"] >= 0].shape[0]\n",
        "total_non_returns"
      ]
    },
    {
      "cell_type": "code",
      "execution_count": 41,
      "metadata": {
        "id": "Pji0aY-NWIDX"
      },
      "outputs": [
        {
          "data": {
            "text/html": [
              "<div>\n",
              "<style scoped>\n",
              "    .dataframe tbody tr th:only-of-type {\n",
              "        vertical-align: middle;\n",
              "    }\n",
              "\n",
              "    .dataframe tbody tr th {\n",
              "        vertical-align: top;\n",
              "    }\n",
              "\n",
              "    .dataframe thead th {\n",
              "        text-align: right;\n",
              "    }\n",
              "</style>\n",
              "<table border=\"1\" class=\"dataframe\">\n",
              "  <thead>\n",
              "    <tr style=\"text-align: right;\">\n",
              "      <th></th>\n",
              "      <th>InvoiceNo</th>\n",
              "      <th>StockCode</th>\n",
              "      <th>Description</th>\n",
              "      <th>Quantity</th>\n",
              "      <th>InvoiceDate</th>\n",
              "      <th>UnitPrice</th>\n",
              "      <th>CustomerID</th>\n",
              "      <th>Country</th>\n",
              "      <th>TotalAmount</th>\n",
              "      <th>Year</th>\n",
              "      <th>Month</th>\n",
              "      <th>Semester</th>\n",
              "      <th>Trimester</th>\n",
              "      <th>AmountCategory</th>\n",
              "    </tr>\n",
              "  </thead>\n",
              "  <tbody>\n",
              "    <tr>\n",
              "      <th>0</th>\n",
              "      <td>536365</td>\n",
              "      <td>85123A</td>\n",
              "      <td>WHITE HANGING HEART T-LIGHT HOLDER</td>\n",
              "      <td>6</td>\n",
              "      <td>2010-12-01 08:26:00</td>\n",
              "      <td>2.55</td>\n",
              "      <td>17850.0</td>\n",
              "      <td>United Kingdom</td>\n",
              "      <td>15.3</td>\n",
              "      <td>2010</td>\n",
              "      <td>12</td>\n",
              "      <td>2</td>\n",
              "      <td>3</td>\n",
              "      <td>Low</td>\n",
              "    </tr>\n",
              "  </tbody>\n",
              "</table>\n",
              "</div>"
            ],
            "text/plain": [
              "  InvoiceNo StockCode                         Description  Quantity  \\\n",
              "0    536365    85123A  WHITE HANGING HEART T-LIGHT HOLDER         6   \n",
              "\n",
              "          InvoiceDate  UnitPrice  CustomerID         Country  TotalAmount  \\\n",
              "0 2010-12-01 08:26:00       2.55     17850.0  United Kingdom         15.3   \n",
              "\n",
              "   Year  Month  Semester  Trimester AmountCategory  \n",
              "0  2010     12         2          3            Low  "
            ]
          },
          "execution_count": 41,
          "metadata": {},
          "output_type": "execute_result"
        }
      ],
      "source": [
        "df_cleaned[\"AmountCategory\"] = df_cleaned[\"TotalAmount\"].apply(utils.categorize_total_amount)\n",
        "df_cleaned.head(1)"
      ]
    },
    {
      "cell_type": "code",
      "execution_count": 46,
      "metadata": {},
      "outputs": [],
      "source": [
        "total_amount_low = df_cleaned[df_cleaned[\"AmountCategory\"] == \"Low\"].shape[0]\n",
        "total_amount_medium = df_cleaned[df_cleaned[\"AmountCategory\"] == \"Medium\"].shape[0]\n",
        "total_amount_high = df_cleaned[df_cleaned[\"AmountCategory\"] == \"High\"].shape[0]"
      ]
    },
    {
      "cell_type": "code",
      "execution_count": 73,
      "metadata": {},
      "outputs": [
        {
          "data": {
            "text/html": [
              "<div>\n",
              "<style scoped>\n",
              "    .dataframe tbody tr th:only-of-type {\n",
              "        vertical-align: middle;\n",
              "    }\n",
              "\n",
              "    .dataframe tbody tr th {\n",
              "        vertical-align: top;\n",
              "    }\n",
              "\n",
              "    .dataframe thead th {\n",
              "        text-align: right;\n",
              "    }\n",
              "</style>\n",
              "<table border=\"1\" class=\"dataframe\">\n",
              "  <thead>\n",
              "    <tr style=\"text-align: right;\">\n",
              "      <th></th>\n",
              "      <th>StockCode</th>\n",
              "      <th>Quantity</th>\n",
              "      <th>Description</th>\n",
              "    </tr>\n",
              "  </thead>\n",
              "  <tbody>\n",
              "    <tr>\n",
              "      <th>0</th>\n",
              "      <td>84077</td>\n",
              "      <td>53119</td>\n",
              "      <td>WORLD WAR 2 GLIDERS ASSTD DESIGNS</td>\n",
              "    </tr>\n",
              "    <tr>\n",
              "      <th>1</th>\n",
              "      <td>22197</td>\n",
              "      <td>48689</td>\n",
              "      <td>SMALL POPCORN HOLDER</td>\n",
              "    </tr>\n",
              "    <tr>\n",
              "      <th>2</th>\n",
              "      <td>22197</td>\n",
              "      <td>48689</td>\n",
              "      <td>POPCORN HOLDER</td>\n",
              "    </tr>\n",
              "    <tr>\n",
              "      <th>3</th>\n",
              "      <td>85099B</td>\n",
              "      <td>44963</td>\n",
              "      <td>JUMBO BAG RED RETROSPOT</td>\n",
              "    </tr>\n",
              "    <tr>\n",
              "      <th>4</th>\n",
              "      <td>84879</td>\n",
              "      <td>35215</td>\n",
              "      <td>ASSORTED COLOUR BIRD ORNAMENT</td>\n",
              "    </tr>\n",
              "    <tr>\n",
              "      <th>5</th>\n",
              "      <td>85123A</td>\n",
              "      <td>34185</td>\n",
              "      <td>WHITE HANGING HEART T-LIGHT HOLDER</td>\n",
              "    </tr>\n",
              "    <tr>\n",
              "      <th>6</th>\n",
              "      <td>85123A</td>\n",
              "      <td>34185</td>\n",
              "      <td>CREAM HANGING HEART T-LIGHT HOLDER</td>\n",
              "    </tr>\n",
              "    <tr>\n",
              "      <th>7</th>\n",
              "      <td>21212</td>\n",
              "      <td>33386</td>\n",
              "      <td>PACK OF 72 RETROSPOT CAKE CASES</td>\n",
              "    </tr>\n",
              "    <tr>\n",
              "      <th>8</th>\n",
              "      <td>23084</td>\n",
              "      <td>27045</td>\n",
              "      <td>RABBIT NIGHT LIGHT</td>\n",
              "    </tr>\n",
              "    <tr>\n",
              "      <th>9</th>\n",
              "      <td>22492</td>\n",
              "      <td>25880</td>\n",
              "      <td>MINI PAINT SET VINTAGE</td>\n",
              "    </tr>\n",
              "    <tr>\n",
              "      <th>10</th>\n",
              "      <td>22616</td>\n",
              "      <td>25305</td>\n",
              "      <td>PACK OF 12 LONDON TISSUES</td>\n",
              "    </tr>\n",
              "    <tr>\n",
              "      <th>11</th>\n",
              "      <td>21977</td>\n",
              "      <td>24129</td>\n",
              "      <td>PACK OF 60 PINK PAISLEY CAKE CASES</td>\n",
              "    </tr>\n",
              "  </tbody>\n",
              "</table>\n",
              "</div>"
            ],
            "text/plain": [
              "   StockCode  Quantity                         Description\n",
              "0      84077     53119   WORLD WAR 2 GLIDERS ASSTD DESIGNS\n",
              "1      22197     48689                SMALL POPCORN HOLDER\n",
              "2      22197     48689                      POPCORN HOLDER\n",
              "3     85099B     44963             JUMBO BAG RED RETROSPOT\n",
              "4      84879     35215       ASSORTED COLOUR BIRD ORNAMENT\n",
              "5     85123A     34185  WHITE HANGING HEART T-LIGHT HOLDER\n",
              "6     85123A     34185  CREAM HANGING HEART T-LIGHT HOLDER\n",
              "7      21212     33386     PACK OF 72 RETROSPOT CAKE CASES\n",
              "8      23084     27045                  RABBIT NIGHT LIGHT\n",
              "9      22492     25880             MINI PAINT SET VINTAGE \n",
              "10     22616     25305          PACK OF 12 LONDON TISSUES \n",
              "11     21977     24129  PACK OF 60 PINK PAISLEY CAKE CASES"
            ]
          },
          "execution_count": 73,
          "metadata": {},
          "output_type": "execute_result"
        }
      ],
      "source": [
        "top_products = df_cleaned.groupby(\"StockCode\")[\"Quantity\"].sum().sort_values(ascending=False).head(10)\n",
        "top_products = top_products.reindex()\n",
        "top_products = pd.merge(top_products, df_cleaned[[\"StockCode\", \"Description\"]].drop_duplicates(), on=\"StockCode\", how=\"left\")\n",
        "top_products"
      ]
    },
    {
      "cell_type": "markdown",
      "metadata": {
        "id": "6hGyerwEUGPO"
      },
      "source": [
        "---"
      ]
    },
    {
      "cell_type": "markdown",
      "metadata": {
        "id": "dpGb_v-RUG-Q"
      },
      "source": [
        "# 4. Graficacion"
      ]
    },
    {
      "cell_type": "markdown",
      "metadata": {
        "id": "0c4f_6SeUL2T"
      },
      "source": [
        "---"
      ]
    },
    {
      "cell_type": "code",
      "execution_count": 39,
      "metadata": {
        "colab": {
          "base_uri": "https://localhost:8080/",
          "height": 675
        },
        "id": "9ozewvGtUMmP",
        "outputId": "b9fa32a7-1822-4b64-b568-bf0fc1046ae1"
      },
      "outputs": [
        {
          "data": {
            "image/png": "[encoded data removed]",
            "text/plain": [
              "<Figure size 800x800 with 1 Axes>"
            ]
          },
          "metadata": {},
          "output_type": "display_data"
        }
      ],
      "source": [
        "labels = [\"Devoluciones\", \"No devoluciones\"]\n",
        "sized = [total_returns, total_non_returns]\n",
        "colors = [\"lightcoral\",\"lightgreen\"]\n",
        "\n",
        "plt.figure(figsize=(8, 8))\n",
        "plt.pie(sized, labels=labels, colors=colors, autopct=\"%1.1f%%\", startangle=140)\n",
        "plt.title(\"Porcentaje de transacciones con y sin devolucion\")\n",
        "plt.show()"
      ]
    },
    {
      "cell_type": "code",
      "execution_count": 54,
      "metadata": {},
      "outputs": [
        {
          "data": {
            "image/png": "[encoded data removed]",
            "text/plain": [
              "<Figure size 800x800 with 1 Axes>"
            ]
          },
          "metadata": {},
          "output_type": "display_data"
        }
      ],
      "source": [
        "labels = [\"Low\", \"Medium\", \"High\"]\n",
        "sized = [total_amount_low, total_amount_medium, total_amount_high]\n",
        "colors = [\"lightcoral\", \"lightgreen\", \"lightblue\"]\n",
        "\n",
        "plt.figure(figsize=(8, 8))\n",
        "plt.pie(sized, labels=labels, colors=colors, autopct=\"%1.1f%%\", startangle=80)\n",
        "\n",
        "# Personalizar la leyenda con los rangos de valores\n",
        "custom_labels = [\"Low (<20)\", \"Medium (<100)\", \"High (>100)\"]\n",
        "plt.legend(custom_labels, title=\"Categoría de precios\")\n",
        "\n",
        "plt.title(\"Categorización por precio de venta\")\n",
        "plt.show()\n"
      ]
    },
    {
      "cell_type": "code",
      "execution_count": 55,
      "metadata": {},
      "outputs": [
        {
          "data": {
            "image/png": "[encoded data removed]",
            "text/plain": [
              "<Figure size 1200x600 with 1 Axes>"
            ]
          },
          "metadata": {},
          "output_type": "display_data"
        }
      ],
      "source": [
        "plt.figure(figsize=(12,6))\n",
        "\n",
        "df_cleaned.groupby([\"Year\", \"Month\"])[\"TotalAmount\"].sum().plot(kind=\"bar\")\n",
        "plt.title(\"Distribucion de ventas por mes y ano\")\n",
        "plt.xlabel(\"Ano, Mes\")\n",
        "plt.ylabel(\"Ventas totales\")\n",
        "plt.show()"
      ]
    },
    {
      "cell_type": "code",
      "execution_count": 79,
      "metadata": {},
      "outputs": [
        {
          "data": {
            "image/png": "[encoded data removed]",
            "text/plain": [
              "<Figure size 640x480 with 1 Axes>"
            ]
          },
          "metadata": {},
          "output_type": "display_data"
        }
      ],
      "source": [
        "plt.Figure(figsize=(12,0))\n",
        "plt.barh(top_products[\"Description\"], top_products[\"Quantity\"])\n",
        "plt.title(\"Tops de productos\")\n",
        "plt.xlabel(\"Cantidad vendida\")\n",
        "plt.ylabel(\"Producto\")\n",
        "plt.gca().invert_yaxis()\n",
        "plt.show()"
      ]
    }
  ],
  "metadata": {
    "colab": {
      "provenance": []
    },
    "kernelspec": {
      "display_name": "base",
      "language": "python",
      "name": "python3"
    },
    "language_info": {
      "codemirror_mode": {
        "name": "ipython",
        "version": 3
      },
      "file_extension": ".py",
      "mimetype": "text/x-python",
      "name": "python",
      "nbconvert_exporter": "python",
      "pygments_lexer": "ipython3",
      "version": "3.12.7"
    }
  },
  "nbformat": 4,
  "nbformat_minor": 0
}
